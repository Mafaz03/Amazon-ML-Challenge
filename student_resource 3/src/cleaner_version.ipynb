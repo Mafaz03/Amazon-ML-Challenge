{
 "cells": [
  {
   "cell_type": "code",
   "execution_count": 250,
   "metadata": {},
   "outputs": [],
   "source": [
    "import os\n",
    "import pandas as pd\n",
    "import easyocr\n",
    "import ssl\n",
    "import requests\n",
    "from PIL import Image\n",
    "import re\n",
    "import constants\n",
    "from constants import unit_abbreviation_map\n",
    "\n",
    "ssl._create_default_https_context = ssl._create_unverified_context\n"
   ]
  },
  {
   "cell_type": "code",
   "execution_count": 251,
   "metadata": {},
   "outputs": [
    {
     "data": {
      "text/plain": [
       "('https://m.media-amazon.com/images/I/718EdwGgyVL.jpg',\n",
       " 'item_weight',\n",
       " '200.0 gram')"
      ]
     },
     "execution_count": 251,
     "metadata": {},
     "output_type": "execute_result"
    }
   ],
   "source": [
    "DATASET_FOLDER = '../dataset/'\n",
    "train = pd.read_csv(os.path.join(DATASET_FOLDER, 'train.csv'))\n",
    "test = pd.read_csv(os.path.join(DATASET_FOLDER, 'test.csv'))\n",
    "sample_test = pd.read_csv(os.path.join(DATASET_FOLDER, 'sample_test.csv'))\n",
    "sample_test_out = pd.read_csv(os.path.join(DATASET_FOLDER, 'sample_test_out.csv'))\n",
    "\n",
    "sample_train = train.iloc[:80]\n",
    "sample_train\n",
    "\n",
    "\n",
    "num = 78\n",
    "img_link = sample_train['image_link'][num]\n",
    "entity_name = sample_train['entity_name'][num] \n",
    "actual_pred = sample_train['entity_value'][num] \n",
    "\n",
    "img_link, entity_name, actual_pred"
   ]
  },
  {
   "cell_type": "code",
   "execution_count": 252,
   "metadata": {},
   "outputs": [],
   "source": [
    "def ocr(img_link):\n",
    "    reader = easyocr.Reader(['en'])\n",
    "    get_from_net = requests.get(img_link, stream=True).raw\n",
    "    image = Image.open(get_from_net)\n",
    "    texts = reader.readtext(image)\n",
    "    return texts"
   ]
  },
  {
   "cell_type": "code",
   "execution_count": 253,
   "metadata": {},
   "outputs": [],
   "source": [
    "def clean1(texts):\n",
    "    new_entries = []\n",
    "    to_delete = []\n",
    "\n",
    "    # Function to clean and normalize the input\n",
    "    def clean_and_normalize(value):\n",
    "        # Replace comma with period\n",
    "        return value.replace(',', '.')\n",
    "\n",
    "    # Loop over the list using enumerate to track index\n",
    "    for i, text in enumerate(texts):\n",
    "        # Check if '/' is in text[1]\n",
    "        if '/' in text[1]:\n",
    "            # Clean and normalize the text[1]\n",
    "            cleaned_text = clean_and_normalize(text[1])\n",
    "            # Split the cleaned text[1] by '/'\n",
    "            todo = cleaned_text.split('/')\n",
    "            \n",
    "            # Add each part as a new tuple\n",
    "            for k in todo:\n",
    "                new_entries.append(\n",
    "                    (text[0], k.strip(), text[-1])\n",
    "                )\n",
    "            \n",
    "            # Mark the original entry for deletion\n",
    "            to_delete.append(i)\n",
    "\n",
    "    # Remove the original entries from texts in reverse order to avoid index issues\n",
    "    for index in sorted(to_delete, reverse=True):\n",
    "        del texts[index]\n",
    "\n",
    "    # Extend the original texts list with the new entries\n",
    "    texts.extend(new_entries)\n",
    "\n",
    "    texts_dict = [{\"text\": text[1], \"pred\": text[-1]} for text in texts]\n",
    "    texts_dict\n",
    "    return texts_dict"
   ]
  },
  {
   "cell_type": "code",
   "execution_count": 254,
   "metadata": {},
   "outputs": [],
   "source": [
    "def extract_and_replace_units(text, units_dict):\n",
    "    # Create a regex pattern to match metrics and units\n",
    "    pattern = r'(\\d+\\.?\\d*)\\s*(' + '|'.join(re.escape(key) for key in units_dict.keys()) + r')\\b'\n",
    "    \n",
    "    # Find matches\n",
    "    matches = re.findall(pattern, text, flags=re.IGNORECASE)\n",
    "    \n",
    "    # Extract metric and unit\n",
    "    extracted_units = [{'metric': match[0], 'unit': units_dict.get(match[1].lower(), match[1])} for match in matches]\n",
    "    \n",
    "    # Replace units in the text\n",
    "    def replace_match(match):\n",
    "        return f\"{match.group(1)} {units_dict.get(match.group(2).lower(), match.group(2))}\"\n",
    "    \n",
    "    updated_text = re.sub(pattern, replace_match, text, flags=re.IGNORECASE)\n",
    "    \n",
    "    return {'text': updated_text, 'extracted_units': extracted_units}\n"
   ]
  },
  {
   "cell_type": "code",
   "execution_count": 255,
   "metadata": {},
   "outputs": [],
   "source": [
    "# Function to normalize units\n",
    "def normalize_unit(unit):\n",
    "    return unit_abbreviation_map[entity_name].get(unit.lower(), unit)\n",
    "\n",
    "# Function to convert input to standardized form\n",
    "def convert_to_standard_form(input_str):\n",
    "    # Regex to capture number and unit (with or without space between them)\n",
    "    match = re.match(r\"([0-9.]+)\\s*([a-zA-Z]+)\", input_str)\n",
    "    if match:\n",
    "        value = match.group(1)\n",
    "        unit = match.group(2)\n",
    "        \n",
    "        # Normalize unit\n",
    "        normalized_unit = normalize_unit(unit)\n",
    "        \n",
    "        # Return standardized form: number + normalized unit\n",
    "        return f\"{value} {normalized_unit}\"\n",
    "    \n",
    "    # If no match, return the input string unchanged\n",
    "    return input_str"
   ]
  },
  {
   "cell_type": "code",
   "execution_count": 256,
   "metadata": {},
   "outputs": [],
   "source": [
    "def is_unit_in_list(input_str, unit_list):\n",
    "    # Regex to capture number and unit (ignoring the number here)\n",
    "    match = re.match(r\"([0-9.]+)\\s*([a-zA-Z\\s]+)\", input_str)\n",
    "    if match:\n",
    "        unit = match.group(2).strip()\n",
    "        # Normalize the unit\n",
    "        normalized_unit = normalize_unit(unit)\n",
    "        # Check if the normalized unit is in the provided list\n",
    "        return normalized_unit in unit_list\n",
    "    return False"
   ]
  },
  {
   "cell_type": "code",
   "execution_count": 257,
   "metadata": {},
   "outputs": [],
   "source": [
    "def isin(string, words):\n",
    "    pattern = '|'.join(re.escape(word) for word in words)\n",
    "    if re.search(pattern, string):\n",
    "        return True\n",
    "    else:\n",
    "        return False"
   ]
  },
  {
   "cell_type": "code",
   "execution_count": 258,
   "metadata": {},
   "outputs": [],
   "source": [
    "def extract_and_format(text):\n",
    "    # Define a regex pattern to match the numeric part and the unit\n",
    "    pattern = r'(\\d+\\.?\\d*)\\s*([a-zA-Z]+)'\n",
    "    \n",
    "    # Find the match\n",
    "    match = re.search(pattern, text)\n",
    "    \n",
    "    if match:\n",
    "        # Extract numeric part and unit\n",
    "        numeric_part = float(match.group(1))  # Convert to float\n",
    "        unit = match.group(2)\n",
    "        return numeric_part, unit\n",
    "    else:\n",
    "        return None, None"
   ]
  },
  {
   "cell_type": "code",
   "execution_count": 259,
   "metadata": {},
   "outputs": [
    {
     "name": "stderr",
     "output_type": "stream",
     "text": [
      "/Library/Frameworks/Python.framework/Versions/3.11/lib/python3.11/site-packages/easyocr/detection.py:85: FutureWarning: You are using `torch.load` with `weights_only=False` (the current default value), which uses the default pickle module implicitly. It is possible to construct malicious pickle data which will execute arbitrary code during unpickling (See https://github.com/pytorch/pytorch/blob/main/SECURITY.md#untrusted-models for more details). In a future release, the default value for `weights_only` will be flipped to `True`. This limits the functions that could be executed during unpickling. Arbitrary objects will no longer be allowed to be loaded via this mode unless they are explicitly allowlisted by the user via `torch.serialization.add_safe_globals`. We recommend you start setting `weights_only=True` for any use case where you don't have full control of the loaded file. Please open an issue on GitHub for any issues related to this experimental feature.\n",
      "  net.load_state_dict(copyStateDict(torch.load(trained_model, map_location=device)))\n",
      "/Library/Frameworks/Python.framework/Versions/3.11/lib/python3.11/site-packages/easyocr/recognition.py:182: FutureWarning: You are using `torch.load` with `weights_only=False` (the current default value), which uses the default pickle module implicitly. It is possible to construct malicious pickle data which will execute arbitrary code during unpickling (See https://github.com/pytorch/pytorch/blob/main/SECURITY.md#untrusted-models for more details). In a future release, the default value for `weights_only` will be flipped to `True`. This limits the functions that could be executed during unpickling. Arbitrary objects will no longer be allowed to be loaded via this mode unless they are explicitly allowlisted by the user via `torch.serialization.add_safe_globals`. We recommend you start setting `weights_only=True` for any use case where you don't have full control of the loaded file. Please open an issue on GitHub for any issues related to this experimental feature.\n",
      "  model.load_state_dict(torch.load(model_path, map_location=device))\n"
     ]
    },
    {
     "data": {
      "text/plain": [
       "[([[728, 266], [1278, 266], [1278, 370], [728, 370]],\n",
       "  'Available in',\n",
       "  0.5693073721273247),\n",
       " ([[390, 377], [1616, 377], [1616, 488], [390, 488]],\n",
       "  'TWO OTHER DIFFERENT',\n",
       "  0.8562295871174908),\n",
       " ([[717, 495], [1287, 495], [1287, 605], [717, 605]],\n",
       "  'FLAVOURS',\n",
       "  0.9922197129267067),\n",
       " ([[571, 922], [732, 922], [732, 978], [571, 978]],\n",
       "  'Qi344p',\n",
       "  0.0631006310430465),\n",
       " ([[980, 929], [1141, 929], [1141, 965], [980, 965]],\n",
       "  'Quantum',\n",
       "  0.9648586875162135)]"
      ]
     },
     "execution_count": 259,
     "metadata": {},
     "output_type": "execute_result"
    }
   ],
   "source": [
    "texts = ocr(img_link)\n",
    "texts[:5]"
   ]
  },
  {
   "cell_type": "code",
   "execution_count": 260,
   "metadata": {},
   "outputs": [
    {
     "data": {
      "text/plain": [
       "[{'text': 'Available in', 'pred': 0.5693073721273247},\n",
       " {'text': 'TWO OTHER DIFFERENT', 'pred': 0.8562295871174908},\n",
       " {'text': 'FLAVOURS', 'pred': 0.9922197129267067},\n",
       " {'text': 'Qi344p', 'pred': 0.0631006310430465},\n",
       " {'text': 'Quantum', 'pred': 0.9648586875162135}]"
      ]
     },
     "execution_count": 260,
     "metadata": {},
     "output_type": "execute_result"
    }
   ],
   "source": [
    "texts_dict = clean1(texts)\n",
    "texts_dict[:5]"
   ]
  },
  {
   "cell_type": "code",
   "execution_count": 261,
   "metadata": {},
   "outputs": [
    {
     "data": {
      "text/plain": [
       "['pound', 'milligram', 'kilogram', 'gram', 'ton', 'microgram', 'ounce']"
      ]
     },
     "execution_count": 261,
     "metadata": {},
     "output_type": "execute_result"
    }
   ],
   "source": [
    "cons = list(constants.entity_unit_map[entity_name])\n",
    "cons"
   ]
  },
  {
   "cell_type": "code",
   "execution_count": 262,
   "metadata": {},
   "outputs": [
    {
     "data": {
      "text/plain": [
       "[{'text': 'Available in', 'pred': 0.5693073721273247},\n",
       " {'text': 'TWO OTHER DIFFERENT', 'pred': 0.8562295871174908},\n",
       " {'text': 'FLAVOURS', 'pred': 0.9922197129267067},\n",
       " {'text': 'Qi344p', 'pred': 0.0631006310430465},\n",
       " {'text': 'Quantum', 'pred': 0.9648586875162135},\n",
       " {'text': 'Quantum', 'pred': 0.9818917890357461},\n",
       " {'text': 'Naturals', 'pred': 0.9777094463335578},\n",
       " {'text': 'Naturals', 'pred': 0.9779276779277533},\n",
       " {'text': 'OuantoCikill', 'pred': 0.16430114314629382},\n",
       " {'text': 'QuantcClilldex', 'pred': 0.24975247081860708},\n",
       " {'text': 'MILLET', 'pred': 0.998769187570498},\n",
       " {'text': 'MILLET SHORTBREAD', 'pred': 0.793868897657066},\n",
       " {'text': 'With Psyllium Husk and', 'pred': 0.7044825834464848},\n",
       " {'text': 'With Psyllium Husk -', 'pred': 0.4595989936851875},\n",
       " {'text': 'Husk', 'pred': 0.9793620941235592},\n",
       " {'text': 'Fennel', 'pred': 0.9999903152587154},\n",
       " {'text': 'Enhanced', 'pred': 0.9999210155138248},\n",
       " {'text': 'Date SyIup', 'pred': 0.28167090356289015},\n",
       " {'text': 'Enhanced_', 'pred': 0.9580738461329938},\n",
       " {'text': 'Coco Butter ', 'pred': 0.27249456153068913},\n",
       " {'text': 'With Psyllium', 'pred': 0.997867448094464},\n",
       " {'text': 'Sweetened', 'pred': 0.9867657444488237},\n",
       " {'text': 'Sweetened with_', 'pred': 0.8648560971473375},\n",
       " {'text': 'with Jaggery', 'pred': 0.6380900217548099},\n",
       " {'text': 'for', 'pred': 0.9999926356734838},\n",
       " {'text': 'boosting', 'pred': 0.9999518256715012},\n",
       " {'text': 'for', 'pred': 0.9998611114021542},\n",
       " {'text': 'boosting ener', 'pred': 0.45097423835571077},\n",
       " {'text': 'energy', 'pred': 0.9999711403821275},\n",
       " {'text': 'All day', 'pred': 0.5799771355703817},\n",
       " {'text': 'AIl day', 'pred': 0.5999805549811281},\n",
       " {'text': 'AIl day snack for', 'pred': 0.6523825846409931},\n",
       " {'text': 'CreAT ', 'pred': 0.10105175522033633},\n",
       " {'text': 'FROM', 'pred': 0.9956802129745483},\n",
       " {'text': 'FroM', 'pred': 0.22198180854320526},\n",
       " {'text': 'FROM', 'pred': 0.8264201283454895},\n",
       " {'text': 'For ALL ACE', 'pred': 0.5772470195672723},\n",
       " {'text': 'ALL AGE', 'pred': 0.6202937009466968},\n",
       " {'text': 'FoR', 'pred': 0.4373129944567227},\n",
       " {'text': 'AGE', 'pred': 0.9484967263072491},\n",
       " {'text': 'Net Weight ZOgm', 'pred': 0.4194507883542886},\n",
       " {'text': '{200gm', 'pred': 0.44035740163328774},\n",
       " {'text': 'Net', 'pred': 0.9760775654126774},\n",
       " {'text': 'Net', 'pred': 0.9916045823627461},\n",
       " {'text': \"Ouentelates'\", 'pred': 0.11125493892162312},\n",
       " {'text': 'DuntHluade\"', 'pred': 0.05209699114641228},\n",
       " {'text': \" Quanb Khutcx'\", 'pred': 0.023302448880434156},\n",
       " {'text': '0x4c', 'pred': 0.011278762482106686},\n",
       " {'text': 'Llr', 'pred': 0.027828394024064403},\n",
       " {'text': 'Wo', 'pred': 0.013485443189938443},\n",
       " {'text': 'Jrsd', 'pred': 0.020599091425538063},\n",
       " {'text': 'Maua ', 'pred': 0.014689385364911527},\n",
       " {'text': 'OuantoChith', 'pred': 0.2640911731649406},\n",
       " {'text': 'SHORTBREAD', 'pred': 0.9994306767719774},\n",
       " {'text': 'SHORTBREAD', 'pred': 0.8191696988818747},\n",
       " {'text': 'MILLET', 'pred': 0.983346391891288},\n",
       " {'text': 'and', 'pred': 0.999908462625814},\n",
       " {'text': 'and', 'pred': 0.7712145447731018},\n",
       " {'text': 'Enhanced', 'pred': 0.9999080338248547},\n",
       " {'text': 'with', 'pred': 0.4604708256320518},\n",
       " {'text': 'Swcetoned', 'pred': 0.5476367514793274},\n",
       " {'text': 'ene', 'pred': 0.9993688967105006},\n",
       " {'text': 'snack', 'pred': 0.76291595810444},\n",
       " {'text': 'boosting', 'pred': 0.9999751332313122},\n",
       " {'text': 'snack =', 'pred': 0.6375622557567465},\n",
       " {'text': 'DELICcIOUs', 'pred': 0.1509668986944186},\n",
       " {'text': 'HolAY', 'pred': 0.02432053560288235},\n",
       " {'text': 'FoR', 'pred': 0.15404942965982718},\n",
       " {'text': 'Diclstion', 'pred': 0.3253445674354845},\n",
       " {'text': 'ENerGY', 'pred': 0.23177802632388023},\n",
       " {'text': 'EneRCY', 'pred': 0.38260490775920836},\n",
       " {'text': 'SupcRFOOD', 'pred': 0.17907574165935264},\n",
       " {'text': 'eNcRGY', 'pred': 0.40389841233254753},\n",
       " {'text': 'SupcRFOOD', 'pred': 0.34246598068614825},\n",
       " {'text': 'Sudereood', 'pred': 0.1571684635314501},\n",
       " {'text': 'FoR', 'pred': 0.5495195034668436},\n",
       " {'text': 'CPoUDs,', 'pred': 0.047233509306647554},\n",
       " {'text': 'ALle', 'pred': 0.1257026642560959},\n",
       " {'text': 'Groups:', 'pred': 0.26195294679441367},\n",
       " {'text': 'Groups ', 'pred': 0.13941746433405583},\n",
       " {'text': 'Guar', 'pred': 0.00253166351467371},\n",
       " {'text': 'Weight 2ODgm', 'pred': 0.22690299338294634},\n",
       " {'text': 'Weight ', 'pred': 0.5231454941341277}]"
      ]
     },
     "execution_count": 262,
     "metadata": {},
     "output_type": "execute_result"
    }
   ],
   "source": [
    "texts_dict"
   ]
  },
  {
   "cell_type": "code",
   "execution_count": 263,
   "metadata": {},
   "outputs": [
    {
     "name": "stdout",
     "output_type": "stream",
     "text": [
      "{'text': 'Available in', 'pred': 0.5693073721273247}\n",
      "{'text': 'TWO OTHER DIFFERENT', 'pred': 0.8562295871174908}\n",
      "{'text': 'FLAVOURS', 'pred': 0.9922197129267067}\n",
      "{'text': 'Qi344p', 'pred': 0.0631006310430465}\n",
      "{'text': 'Quantum', 'pred': 0.9648586875162135}\n",
      "{'text': 'Quantum', 'pred': 0.9818917890357461}\n",
      "{'text': 'Naturals', 'pred': 0.9777094463335578}\n",
      "{'text': 'Naturals', 'pred': 0.9779276779277533}\n",
      "{'text': 'OuantoCikill', 'pred': 0.16430114314629382}\n",
      "{'text': 'QuantcClilldex', 'pred': 0.24975247081860708}\n",
      "{'text': 'MILLET', 'pred': 0.998769187570498}\n",
      "{'text': 'MILLET SHORTBREAD', 'pred': 0.793868897657066}\n",
      "{'text': 'With Psyllium Husk and', 'pred': 0.7044825834464848}\n",
      "{'text': 'With Psyllium Husk -', 'pred': 0.4595989936851875}\n",
      "{'text': 'Husk', 'pred': 0.9793620941235592}\n",
      "{'text': 'Fennel', 'pred': 0.9999903152587154}\n",
      "{'text': 'Enhanced', 'pred': 0.9999210155138248}\n",
      "{'text': 'Date SyIup', 'pred': 0.28167090356289015}\n",
      "{'text': 'Enhanced_', 'pred': 0.9580738461329938}\n",
      "{'text': 'Coco Butter ', 'pred': 0.27249456153068913}\n",
      "{'text': 'With Psyllium', 'pred': 0.997867448094464}\n",
      "{'text': 'Sweetened', 'pred': 0.9867657444488237}\n",
      "{'text': 'Sweetened with_', 'pred': 0.8648560971473375}\n",
      "{'text': 'with Jaggery', 'pred': 0.6380900217548099}\n",
      "{'text': 'for', 'pred': 0.9999926356734838}\n",
      "{'text': 'boosting', 'pred': 0.9999518256715012}\n",
      "{'text': 'for', 'pred': 0.9998611114021542}\n",
      "{'text': 'boosting ener', 'pred': 0.45097423835571077}\n",
      "{'text': 'energy', 'pred': 0.9999711403821275}\n",
      "{'text': 'All day', 'pred': 0.5799771355703817}\n",
      "{'text': 'AIl day', 'pred': 0.5999805549811281}\n",
      "{'text': 'AIl day snack for', 'pred': 0.6523825846409931}\n",
      "{'text': 'CreAT ', 'pred': 0.10105175522033633}\n",
      "{'text': 'FROM', 'pred': 0.9956802129745483}\n",
      "{'text': 'FroM', 'pred': 0.22198180854320526}\n",
      "{'text': 'FROM', 'pred': 0.8264201283454895}\n",
      "{'text': 'For ALL ACE', 'pred': 0.5772470195672723}\n",
      "{'text': 'ALL AGE', 'pred': 0.6202937009466968}\n",
      "{'text': 'FoR', 'pred': 0.4373129944567227}\n",
      "{'text': 'AGE', 'pred': 0.9484967263072491}\n",
      "{'text': 'Net Weight ZOgm', 'pred': 0.4194507883542886}\n",
      "{'text': '{200gm', 'pred': 0.44035740163328774}\n",
      "{'text': 'Net', 'pred': 0.9760775654126774}\n",
      "{'text': 'Net', 'pred': 0.9916045823627461}\n",
      "{'text': \"Ouentelates'\", 'pred': 0.11125493892162312}\n",
      "{'text': 'DuntHluade\"', 'pred': 0.05209699114641228}\n",
      "{'text': \" Quanb Khutcx'\", 'pred': 0.023302448880434156}\n",
      "{'text': '0x4c', 'pred': 0.011278762482106686}\n",
      "{'text': 'Llr', 'pred': 0.027828394024064403}\n",
      "{'text': 'Wo', 'pred': 0.013485443189938443}\n",
      "{'text': 'Jrsd', 'pred': 0.020599091425538063}\n",
      "{'text': 'Maua ', 'pred': 0.014689385364911527}\n",
      "{'text': 'OuantoChith', 'pred': 0.2640911731649406}\n",
      "{'text': 'SHORTBREAD', 'pred': 0.9994306767719774}\n",
      "{'text': 'SHORTBREAD', 'pred': 0.8191696988818747}\n",
      "{'text': 'MILLET', 'pred': 0.983346391891288}\n",
      "{'text': 'and', 'pred': 0.999908462625814}\n",
      "{'text': 'and', 'pred': 0.7712145447731018}\n",
      "{'text': 'Enhanced', 'pred': 0.9999080338248547}\n",
      "{'text': 'with', 'pred': 0.4604708256320518}\n",
      "{'text': 'Swcetoned', 'pred': 0.5476367514793274}\n",
      "{'text': 'ene', 'pred': 0.9993688967105006}\n",
      "{'text': 'snack', 'pred': 0.76291595810444}\n",
      "{'text': 'boosting', 'pred': 0.9999751332313122}\n",
      "{'text': 'snack =', 'pred': 0.6375622557567465}\n",
      "{'text': 'DELICcIOUs', 'pred': 0.1509668986944186}\n",
      "{'text': 'HolAY', 'pred': 0.02432053560288235}\n",
      "{'text': 'FoR', 'pred': 0.15404942965982718}\n",
      "{'text': 'Diclstion', 'pred': 0.3253445674354845}\n",
      "{'text': 'ENerGY', 'pred': 0.23177802632388023}\n",
      "{'text': 'EneRCY', 'pred': 0.38260490775920836}\n",
      "{'text': 'SupcRFOOD', 'pred': 0.17907574165935264}\n",
      "{'text': 'eNcRGY', 'pred': 0.40389841233254753}\n",
      "{'text': 'SupcRFOOD', 'pred': 0.34246598068614825}\n",
      "{'text': 'Sudereood', 'pred': 0.1571684635314501}\n",
      "{'text': 'FoR', 'pred': 0.5495195034668436}\n",
      "{'text': 'CPoUDs,', 'pred': 0.047233509306647554}\n",
      "{'text': 'ALle', 'pred': 0.1257026642560959}\n",
      "{'text': 'Groups:', 'pred': 0.26195294679441367}\n",
      "{'text': 'Groups ', 'pred': 0.13941746433405583}\n",
      "{'text': 'Guar', 'pred': 0.00253166351467371}\n",
      "{'text': 'Weight 2ODgm', 'pred': 0.22690299338294634}\n",
      "{'text': 'Weight ', 'pred': 0.5231454941341277}\n"
     ]
    }
   ],
   "source": [
    "for sub_text in texts_dict:\n",
    "    print(sub_text)"
   ]
  },
  {
   "cell_type": "code",
   "execution_count": 264,
   "metadata": {},
   "outputs": [],
   "source": [
    "new = []\n",
    "\n",
    "for sub_text in texts_dict:\n",
    "    result = extract_and_replace_units(sub_text['text'], constants.unit_abbreviation_map[entity_name])\n",
    "    result['pred'] = sub_text['pred']  # Include the prediction value\n",
    "    for stuff in result['extracted_units']:\n",
    "        pred = result['pred']\n",
    "        if stuff['metric'].isdigit():\n",
    "            all = str(float(int(stuff['metric']))) + ' ' + stuff['unit']\n",
    "        else: all = stuff['metric'] + ' ' + stuff['unit']\n",
    "        new.append({'text': all, 'pred': pred})\n",
    "for n in new:\n",
    "    if n != []:\n",
    "        texts_dict.append(n)"
   ]
  },
  {
   "cell_type": "code",
   "execution_count": 265,
   "metadata": {},
   "outputs": [
    {
     "data": {
      "text/plain": [
       "[{'text': 'Available in', 'pred': 0.5693073721273247},\n",
       " {'text': 'TWO OTHER DIFFERENT', 'pred': 0.8562295871174908},\n",
       " {'text': 'FLAVOURS', 'pred': 0.9922197129267067},\n",
       " {'text': 'Qi344p', 'pred': 0.0631006310430465},\n",
       " {'text': 'Quantum', 'pred': 0.9648586875162135},\n",
       " {'text': 'Quantum', 'pred': 0.9818917890357461},\n",
       " {'text': 'Naturals', 'pred': 0.9777094463335578},\n",
       " {'text': 'Naturals', 'pred': 0.9779276779277533},\n",
       " {'text': 'OuantoCikill', 'pred': 0.16430114314629382},\n",
       " {'text': 'QuantcClilldex', 'pred': 0.24975247081860708},\n",
       " {'text': 'MILLET', 'pred': 0.998769187570498},\n",
       " {'text': 'MILLET SHORTBREAD', 'pred': 0.793868897657066},\n",
       " {'text': 'With Psyllium Husk and', 'pred': 0.7044825834464848},\n",
       " {'text': 'With Psyllium Husk -', 'pred': 0.4595989936851875},\n",
       " {'text': 'Husk', 'pred': 0.9793620941235592},\n",
       " {'text': 'Fennel', 'pred': 0.9999903152587154},\n",
       " {'text': 'Enhanced', 'pred': 0.9999210155138248},\n",
       " {'text': 'Date SyIup', 'pred': 0.28167090356289015},\n",
       " {'text': 'Enhanced_', 'pred': 0.9580738461329938},\n",
       " {'text': 'Coco Butter ', 'pred': 0.27249456153068913},\n",
       " {'text': 'With Psyllium', 'pred': 0.997867448094464},\n",
       " {'text': 'Sweetened', 'pred': 0.9867657444488237},\n",
       " {'text': 'Sweetened with_', 'pred': 0.8648560971473375},\n",
       " {'text': 'with Jaggery', 'pred': 0.6380900217548099},\n",
       " {'text': 'for', 'pred': 0.9999926356734838},\n",
       " {'text': 'boosting', 'pred': 0.9999518256715012},\n",
       " {'text': 'for', 'pred': 0.9998611114021542},\n",
       " {'text': 'boosting ener', 'pred': 0.45097423835571077},\n",
       " {'text': 'energy', 'pred': 0.9999711403821275},\n",
       " {'text': 'All day', 'pred': 0.5799771355703817},\n",
       " {'text': 'AIl day', 'pred': 0.5999805549811281},\n",
       " {'text': 'AIl day snack for', 'pred': 0.6523825846409931},\n",
       " {'text': 'CreAT ', 'pred': 0.10105175522033633},\n",
       " {'text': 'FROM', 'pred': 0.9956802129745483},\n",
       " {'text': 'FroM', 'pred': 0.22198180854320526},\n",
       " {'text': 'FROM', 'pred': 0.8264201283454895},\n",
       " {'text': 'For ALL ACE', 'pred': 0.5772470195672723},\n",
       " {'text': 'ALL AGE', 'pred': 0.6202937009466968},\n",
       " {'text': 'FoR', 'pred': 0.4373129944567227},\n",
       " {'text': 'AGE', 'pred': 0.9484967263072491},\n",
       " {'text': 'Net Weight ZOgm', 'pred': 0.4194507883542886},\n",
       " {'text': '{200gm', 'pred': 0.44035740163328774},\n",
       " {'text': 'Net', 'pred': 0.9760775654126774},\n",
       " {'text': 'Net', 'pred': 0.9916045823627461},\n",
       " {'text': \"Ouentelates'\", 'pred': 0.11125493892162312},\n",
       " {'text': 'DuntHluade\"', 'pred': 0.05209699114641228},\n",
       " {'text': \" Quanb Khutcx'\", 'pred': 0.023302448880434156},\n",
       " {'text': '0x4c', 'pred': 0.011278762482106686},\n",
       " {'text': 'Llr', 'pred': 0.027828394024064403},\n",
       " {'text': 'Wo', 'pred': 0.013485443189938443},\n",
       " {'text': 'Jrsd', 'pred': 0.020599091425538063},\n",
       " {'text': 'Maua ', 'pred': 0.014689385364911527},\n",
       " {'text': 'OuantoChith', 'pred': 0.2640911731649406},\n",
       " {'text': 'SHORTBREAD', 'pred': 0.9994306767719774},\n",
       " {'text': 'SHORTBREAD', 'pred': 0.8191696988818747},\n",
       " {'text': 'MILLET', 'pred': 0.983346391891288},\n",
       " {'text': 'and', 'pred': 0.999908462625814},\n",
       " {'text': 'and', 'pred': 0.7712145447731018},\n",
       " {'text': 'Enhanced', 'pred': 0.9999080338248547},\n",
       " {'text': 'with', 'pred': 0.4604708256320518},\n",
       " {'text': 'Swcetoned', 'pred': 0.5476367514793274},\n",
       " {'text': 'ene', 'pred': 0.9993688967105006},\n",
       " {'text': 'snack', 'pred': 0.76291595810444},\n",
       " {'text': 'boosting', 'pred': 0.9999751332313122},\n",
       " {'text': 'snack =', 'pred': 0.6375622557567465},\n",
       " {'text': 'DELICcIOUs', 'pred': 0.1509668986944186},\n",
       " {'text': 'HolAY', 'pred': 0.02432053560288235},\n",
       " {'text': 'FoR', 'pred': 0.15404942965982718},\n",
       " {'text': 'Diclstion', 'pred': 0.3253445674354845},\n",
       " {'text': 'ENerGY', 'pred': 0.23177802632388023},\n",
       " {'text': 'EneRCY', 'pred': 0.38260490775920836},\n",
       " {'text': 'SupcRFOOD', 'pred': 0.17907574165935264},\n",
       " {'text': 'eNcRGY', 'pred': 0.40389841233254753},\n",
       " {'text': 'SupcRFOOD', 'pred': 0.34246598068614825},\n",
       " {'text': 'Sudereood', 'pred': 0.1571684635314501},\n",
       " {'text': 'FoR', 'pred': 0.5495195034668436},\n",
       " {'text': 'CPoUDs,', 'pred': 0.047233509306647554},\n",
       " {'text': 'ALle', 'pred': 0.1257026642560959},\n",
       " {'text': 'Groups:', 'pred': 0.26195294679441367},\n",
       " {'text': 'Groups ', 'pred': 0.13941746433405583},\n",
       " {'text': 'Guar', 'pred': 0.00253166351467371},\n",
       " {'text': 'Weight 2ODgm', 'pred': 0.22690299338294634},\n",
       " {'text': 'Weight ', 'pred': 0.5231454941341277}]"
      ]
     },
     "execution_count": 265,
     "metadata": {},
     "output_type": "execute_result"
    }
   ],
   "source": [
    "texts_dict"
   ]
  },
  {
   "cell_type": "code",
   "execution_count": 266,
   "metadata": {},
   "outputs": [
    {
     "name": "stdout",
     "output_type": "stream",
     "text": [
      "Swcetoned\n",
      "Swcetoned\n"
     ]
    }
   ],
   "source": [
    "cons = list(constants.entity_unit_map[entity_name])\n",
    "prob = []\n",
    "for row in texts_dict:\n",
    "    if row['text'].lower():\n",
    "        normalised = convert_to_standard_form(row['text'])\n",
    "        if isin(normalised, cons):\n",
    "            print(normalised)\n",
    "            prob.append([normalised, row['pred']])\n",
    "\n",
    "if not prob:\n",
    "    prediction = \"\"\n",
    "    print(prediction)\n",
    "elif len(prob) > 1:\n",
    "    \n",
    "    m_idx = 0\n",
    "    max_pred = -1  \n",
    "\n",
    "    for idx, item in enumerate(prob):\n",
    "        if item[1] > max_pred:  \n",
    "            m_idx = idx\n",
    "            max_pred = item[1]  \n",
    "\n",
    "    prediction = prob[m_idx][0]  \n",
    "    print(prediction)\n",
    "else:\n",
    "    prediction = prob[0][0]  \n",
    "    print(prediction)\n"
   ]
  },
  {
   "cell_type": "code",
   "execution_count": 267,
   "metadata": {},
   "outputs": [
    {
     "data": {
      "text/plain": [
       "'Swcetoned'"
      ]
     },
     "execution_count": 267,
     "metadata": {},
     "output_type": "execute_result"
    }
   ],
   "source": [
    "prediction"
   ]
  },
  {
   "cell_type": "code",
   "execution_count": 268,
   "metadata": {},
   "outputs": [
    {
     "name": "stdout",
     "output_type": "stream",
     "text": [
      "Numeric Part: None\n",
      "Unit: None\n",
      "Formatted Text: None None\n",
      "\n",
      "Final: None None\n"
     ]
    }
   ],
   "source": [
    "numeric_part, unit = extract_and_format(prediction)\n",
    "\n",
    "# Combine numeric part with unit\n",
    "formatted_text = f\"{numeric_part} {unit}\"\n",
    "\n",
    "# Print results\n",
    "print(f\"Numeric Part: {numeric_part}\")\n",
    "print(f\"Unit: {unit}\")\n",
    "print(f\"Formatted Text: {formatted_text}\")\n",
    "\n",
    "print(f\"\\nFinal: {formatted_text}\")"
   ]
  },
  {
   "cell_type": "code",
   "execution_count": 269,
   "metadata": {},
   "outputs": [
    {
     "data": {
      "text/plain": [
       "('None None', '200.0 gram')"
      ]
     },
     "execution_count": 269,
     "metadata": {},
     "output_type": "execute_result"
    }
   ],
   "source": [
    "formatted_text, actual_pred"
   ]
  },
  {
   "cell_type": "code",
   "execution_count": 270,
   "metadata": {},
   "outputs": [
    {
     "data": {
      "text/plain": [
       "False"
      ]
     },
     "execution_count": 270,
     "metadata": {},
     "output_type": "execute_result"
    }
   ],
   "source": [
    "formatted_text == actual_pred"
   ]
  }
 ],
 "metadata": {
  "kernelspec": {
   "display_name": "Python 3",
   "language": "python",
   "name": "python3"
  },
  "language_info": {
   "codemirror_mode": {
    "name": "ipython",
    "version": 3
   },
   "file_extension": ".py",
   "mimetype": "text/x-python",
   "name": "python",
   "nbconvert_exporter": "python",
   "pygments_lexer": "ipython3",
   "version": "3.11.5"
  }
 },
 "nbformat": 4,
 "nbformat_minor": 2
}
