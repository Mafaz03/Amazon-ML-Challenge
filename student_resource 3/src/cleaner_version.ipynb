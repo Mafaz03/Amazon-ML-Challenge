{
 "cells": [
  {
   "cell_type": "code",
   "execution_count": 272,
   "metadata": {},
   "outputs": [],
   "source": [
    "import os\n",
    "import pandas as pd\n",
    "import easyocr\n",
    "import ssl\n",
    "import requests\n",
    "from PIL import Image\n",
    "import re\n",
    "import constants\n",
    "from constants import unit_abbreviation_map\n",
    "\n",
    "ssl._create_default_https_context = ssl._create_unverified_context\n"
   ]
  },
  {
   "cell_type": "code",
   "execution_count": 273,
   "metadata": {},
   "outputs": [
    {
     "data": {
      "text/plain": [
       "('https://m.media-amazon.com/images/I/817vo3DcCNL.jpg',\n",
       " 'wattage',\n",
       " '250.0 watt')"
      ]
     },
     "execution_count": 273,
     "metadata": {},
     "output_type": "execute_result"
    }
   ],
   "source": [
    "DATASET_FOLDER = '../dataset/'\n",
    "train = pd.read_csv(os.path.join(DATASET_FOLDER, 'train.csv'))\n",
    "test = pd.read_csv(os.path.join(DATASET_FOLDER, 'test.csv'))\n",
    "sample_test = pd.read_csv(os.path.join(DATASET_FOLDER, 'sample_test.csv'))\n",
    "sample_test_out = pd.read_csv(os.path.join(DATASET_FOLDER, 'sample_test_out.csv'))\n",
    "\n",
    "sample_train = train.iloc[:80]\n",
    "sample_train\n",
    "\n",
    "\n",
    "num = 48\n",
    "img_link = sample_train['image_link'][num]\n",
    "entity_name = sample_train['entity_name'][num] \n",
    "actual_pred = sample_train['entity_value'][num] \n",
    "\n",
    "img_link, entity_name, actual_pred"
   ]
  },
  {
   "cell_type": "code",
   "execution_count": 274,
   "metadata": {},
   "outputs": [],
   "source": [
    "def ocr(img_link):\n",
    "    reader = easyocr.Reader(['en'])\n",
    "    get_from_net = requests.get(img_link, stream=True).raw\n",
    "    image = Image.open(get_from_net)\n",
    "    texts = reader.readtext(image)\n",
    "    return texts"
   ]
  },
  {
   "cell_type": "code",
   "execution_count": 275,
   "metadata": {},
   "outputs": [],
   "source": [
    "def clean1(texts):\n",
    "    new_entries = []\n",
    "    to_delete = []\n",
    "\n",
    "    # Function to clean and normalize the input\n",
    "    def clean_and_normalize(value):\n",
    "        # Replace comma with period\n",
    "        return value.replace(',', '.')\n",
    "\n",
    "    # Loop over the list using enumerate to track index\n",
    "    for i, text in enumerate(texts):\n",
    "        # Check if '/' is in text[1]\n",
    "        if '/' in text[1]:\n",
    "            # Clean and normalize the text[1]\n",
    "            cleaned_text = clean_and_normalize(text[1])\n",
    "            # Split the cleaned text[1] by '/'\n",
    "            todo = cleaned_text.split('/')\n",
    "            \n",
    "            # Add each part as a new tuple\n",
    "            for k in todo:\n",
    "                new_entries.append(\n",
    "                    (text[0], k.strip(), text[-1])\n",
    "                )\n",
    "            \n",
    "            # Mark the original entry for deletion\n",
    "            to_delete.append(i)\n",
    "\n",
    "    # Remove the original entries from texts in reverse order to avoid index issues\n",
    "    for index in sorted(to_delete, reverse=True):\n",
    "        del texts[index]\n",
    "\n",
    "    # Extend the original texts list with the new entries\n",
    "    texts.extend(new_entries)\n",
    "\n",
    "    texts_dict = [{\"text\": text[1], \"pred\": text[-1]} for text in texts]\n",
    "    texts_dict\n",
    "    return texts_dict"
   ]
  },
  {
   "cell_type": "code",
   "execution_count": 276,
   "metadata": {},
   "outputs": [],
   "source": [
    "def extract_and_replace_units(text, units_dict):\n",
    "    # Create a regex pattern to match metrics and units\n",
    "    pattern = r'(\\d+\\.?\\d*)\\s*(' + '|'.join(re.escape(key) for key in units_dict.keys()) + r')\\b'\n",
    "    \n",
    "    # Find matches\n",
    "    matches = re.findall(pattern, text, flags=re.IGNORECASE)\n",
    "    \n",
    "    # Extract metric and unit\n",
    "    extracted_units = [{'metric': match[0], 'unit': units_dict.get(match[1].lower(), match[1])} for match in matches]\n",
    "    \n",
    "    # Replace units in the text\n",
    "    def replace_match(match):\n",
    "        return f\"{match.group(1)} {units_dict.get(match.group(2).lower(), match.group(2))}\"\n",
    "    \n",
    "    updated_text = re.sub(pattern, replace_match, text, flags=re.IGNORECASE)\n",
    "    \n",
    "    return {'text': updated_text, 'extracted_units': extracted_units}\n"
   ]
  },
  {
   "cell_type": "code",
   "execution_count": 277,
   "metadata": {},
   "outputs": [],
   "source": [
    "# Function to normalize units\n",
    "def normalize_unit(unit, entity_name):\n",
    "    return unit_abbreviation_map[entity_name].get(unit.lower(), unit)\n",
    "\n",
    "# Function to convert input to standardized form\n",
    "def convert_to_standard_form(input_str, ):\n",
    "    # Regex to capture number and unit (with or without space between them)\n",
    "    match = re.match(r\"([0-9.]+)\\s*([a-zA-Z]+)\", input_str)\n",
    "    if match:\n",
    "        value = match.group(1)\n",
    "        unit = match.group(2)\n",
    "        \n",
    "        # Normalize unit\n",
    "        normalized_unit = normalize_unit(unit, entity_name)\n",
    "        \n",
    "        # Return standardized form: number + normalized unit\n",
    "        return f\"{value} {normalized_unit}\"\n",
    "    \n",
    "    # If no match, return the input string unchanged\n",
    "    return input_str"
   ]
  },
  {
   "cell_type": "code",
   "execution_count": 278,
   "metadata": {},
   "outputs": [],
   "source": [
    "def is_unit_in_list(input_str, unit_list):\n",
    "    # Regex to capture number and unit (ignoring the number here)\n",
    "    match = re.match(r\"([0-9.]+)\\s*([a-zA-Z\\s]+)\", input_str)\n",
    "    if match:\n",
    "        unit = match.group(2).strip()\n",
    "        # Normalize the unit\n",
    "        normalized_unit = normalize_unit(unit)\n",
    "        # Check if the normalized unit is in the provided list\n",
    "        return normalized_unit in unit_list\n",
    "    return False"
   ]
  },
  {
   "cell_type": "code",
   "execution_count": 279,
   "metadata": {},
   "outputs": [],
   "source": [
    "def isin(string, words):\n",
    "    pattern = '|'.join(re.escape(word) for word in words)\n",
    "    if re.search(pattern, string):\n",
    "        return True\n",
    "    else:\n",
    "        return False"
   ]
  },
  {
   "cell_type": "code",
   "execution_count": 280,
   "metadata": {},
   "outputs": [],
   "source": [
    "def extract_and_format(text):\n",
    "    # Define a regex pattern to match the numeric part and the unit\n",
    "    pattern = r'(\\d+\\.?\\d*)\\s*([a-zA-Z]+)'\n",
    "    \n",
    "    # Find the match\n",
    "    match = re.search(pattern, text)\n",
    "    \n",
    "    if match:\n",
    "        # Extract numeric part and unit\n",
    "        numeric_part = float(match.group(1))  # Convert to float\n",
    "        unit = match.group(2)\n",
    "        return numeric_part, unit\n",
    "    else:\n",
    "        return None, None"
   ]
  },
  {
   "cell_type": "code",
   "execution_count": 281,
   "metadata": {},
   "outputs": [
    {
     "name": "stderr",
     "output_type": "stream",
     "text": [
      "/Library/Frameworks/Python.framework/Versions/3.11/lib/python3.11/site-packages/easyocr/detection.py:85: FutureWarning: You are using `torch.load` with `weights_only=False` (the current default value), which uses the default pickle module implicitly. It is possible to construct malicious pickle data which will execute arbitrary code during unpickling (See https://github.com/pytorch/pytorch/blob/main/SECURITY.md#untrusted-models for more details). In a future release, the default value for `weights_only` will be flipped to `True`. This limits the functions that could be executed during unpickling. Arbitrary objects will no longer be allowed to be loaded via this mode unless they are explicitly allowlisted by the user via `torch.serialization.add_safe_globals`. We recommend you start setting `weights_only=True` for any use case where you don't have full control of the loaded file. Please open an issue on GitHub for any issues related to this experimental feature.\n",
      "  net.load_state_dict(copyStateDict(torch.load(trained_model, map_location=device)))\n",
      "/Library/Frameworks/Python.framework/Versions/3.11/lib/python3.11/site-packages/easyocr/recognition.py:182: FutureWarning: You are using `torch.load` with `weights_only=False` (the current default value), which uses the default pickle module implicitly. It is possible to construct malicious pickle data which will execute arbitrary code during unpickling (See https://github.com/pytorch/pytorch/blob/main/SECURITY.md#untrusted-models for more details). In a future release, the default value for `weights_only` will be flipped to `True`. This limits the functions that could be executed during unpickling. Arbitrary objects will no longer be allowed to be loaded via this mode unless they are explicitly allowlisted by the user via `torch.serialization.add_safe_globals`. We recommend you start setting `weights_only=True` for any use case where you don't have full control of the loaded file. Please open an issue on GitHub for any issues related to this experimental feature.\n",
      "  model.load_state_dict(torch.load(model_path, map_location=device))\n"
     ]
    },
    {
     "data": {
      "text/plain": [
       "[([[107, 183], [2336, 183], [2336, 393], [107, 393]],\n",
       "  'KOMFORT-PAKET 4a',\n",
       "  0.35431388707142747),\n",
       " ([[2140, 1676], [2160, 1676], [2160, 1755], [2140, 1755]],\n",
       "  '1',\n",
       "  0.7760143631954044),\n",
       " ([[842, 1756], [1742, 1756], [1742, 1878], [842, 1878]],\n",
       "  'DAS HERZSTUCK :',\n",
       "  0.9928206878891216),\n",
       " ([[115, 1897], [423, 1897], [423, 1963], [115, 1963]],\n",
       "  'STARKER',\n",
       "  0.9999500315210897),\n",
       " ([[442, 1888], [2454, 1888], [2454, 1964], [442, 1964]],\n",
       "  'UND EFFIZIENTER MOTOR FiR ANGENEHMEN FAHRKOMFORT',\n",
       "  0.7560478897506805)]"
      ]
     },
     "execution_count": 281,
     "metadata": {},
     "output_type": "execute_result"
    }
   ],
   "source": [
    "texts = ocr(img_link)\n",
    "texts[:5]"
   ]
  },
  {
   "cell_type": "code",
   "execution_count": 282,
   "metadata": {},
   "outputs": [
    {
     "data": {
      "text/plain": [
       "[{'text': 'KOMFORT-PAKET 4a', 'pred': 0.35431388707142747},\n",
       " {'text': '1', 'pred': 0.7760143631954044},\n",
       " {'text': 'DAS HERZSTUCK :', 'pred': 0.9928206878891216},\n",
       " {'text': 'STARKER', 'pred': 0.9999500315210897},\n",
       " {'text': 'UND EFFIZIENTER MOTOR FiR ANGENEHMEN FAHRKOMFORT',\n",
       "  'pred': 0.7560478897506805}]"
      ]
     },
     "execution_count": 282,
     "metadata": {},
     "output_type": "execute_result"
    }
   ],
   "source": [
    "texts_dict = clean1(texts)\n",
    "texts_dict[:5]"
   ]
  },
  {
   "cell_type": "code",
   "execution_count": 283,
   "metadata": {},
   "outputs": [
    {
     "data": {
      "text/plain": [
       "['kilowatt', 'watt']"
      ]
     },
     "execution_count": 283,
     "metadata": {},
     "output_type": "execute_result"
    }
   ],
   "source": [
    "cons = list(constants.entity_unit_map[entity_name])\n",
    "cons"
   ]
  },
  {
   "cell_type": "code",
   "execution_count": 284,
   "metadata": {},
   "outputs": [
    {
     "data": {
      "text/plain": [
       "[{'text': 'KOMFORT-PAKET 4a', 'pred': 0.35431388707142747},\n",
       " {'text': '1', 'pred': 0.7760143631954044},\n",
       " {'text': 'DAS HERZSTUCK :', 'pred': 0.9928206878891216},\n",
       " {'text': 'STARKER', 'pred': 0.9999500315210897},\n",
       " {'text': 'UND EFFIZIENTER MOTOR FiR ANGENEHMEN FAHRKOMFORT',\n",
       "  'pred': 0.7560478897506805},\n",
       " {'text': 'KRAFTVOLLE UND EFFIZIENTE', 'pred': 0.8767702961318427},\n",
       " {'text': 'EXTREM LEISER UND', 'pred': 0.9145094799818458},\n",
       " {'text': 'UNGLAUBLICHES DREHMOMENT', 'pred': 0.999008231371281},\n",
       " {'text': 'UNTERSTUTZUNG BIS', 'pred': 0.9994943754635573},\n",
       " {'text': 'LEISTUNGSSTARKER MOTOR MIT', 'pred': 0.9499376126418606},\n",
       " {'text': 'VON', 'pred': 0.9997288323954827},\n",
       " {'text': '250 W', 'pred': 0.9917589681491749},\n",
       " {'text': '45 NM', 'pred': 0.9984150717870629},\n",
       " {'text': '0', 'pred': 0.26312357600830083},\n",
       " {'text': '25 KM', 'pred': 0.669536166297791},\n",
       " {'text': 'H', 'pred': 0.669536166297791}]"
      ]
     },
     "execution_count": 284,
     "metadata": {},
     "output_type": "execute_result"
    }
   ],
   "source": [
    "texts_dict"
   ]
  },
  {
   "cell_type": "code",
   "execution_count": 285,
   "metadata": {},
   "outputs": [
    {
     "name": "stdout",
     "output_type": "stream",
     "text": [
      "{'text': 'KOMFORT-PAKET 4a', 'pred': 0.35431388707142747}\n",
      "{'text': '1', 'pred': 0.7760143631954044}\n",
      "{'text': 'DAS HERZSTUCK :', 'pred': 0.9928206878891216}\n",
      "{'text': 'STARKER', 'pred': 0.9999500315210897}\n",
      "{'text': 'UND EFFIZIENTER MOTOR FiR ANGENEHMEN FAHRKOMFORT', 'pred': 0.7560478897506805}\n",
      "{'text': 'KRAFTVOLLE UND EFFIZIENTE', 'pred': 0.8767702961318427}\n",
      "{'text': 'EXTREM LEISER UND', 'pred': 0.9145094799818458}\n",
      "{'text': 'UNGLAUBLICHES DREHMOMENT', 'pred': 0.999008231371281}\n",
      "{'text': 'UNTERSTUTZUNG BIS', 'pred': 0.9994943754635573}\n",
      "{'text': 'LEISTUNGSSTARKER MOTOR MIT', 'pred': 0.9499376126418606}\n",
      "{'text': 'VON', 'pred': 0.9997288323954827}\n",
      "{'text': '250 W', 'pred': 0.9917589681491749}\n",
      "{'text': '45 NM', 'pred': 0.9984150717870629}\n",
      "{'text': '0', 'pred': 0.26312357600830083}\n",
      "{'text': '25 KM', 'pred': 0.669536166297791}\n",
      "{'text': 'H', 'pred': 0.669536166297791}\n"
     ]
    }
   ],
   "source": [
    "for sub_text in texts_dict:\n",
    "    print(sub_text)"
   ]
  },
  {
   "cell_type": "code",
   "execution_count": 286,
   "metadata": {},
   "outputs": [],
   "source": [
    "new = []\n",
    "\n",
    "for sub_text in texts_dict:\n",
    "    result = extract_and_replace_units(sub_text['text'], constants.unit_abbreviation_map[entity_name])\n",
    "    result['pred'] = sub_text['pred']  # Include the prediction value\n",
    "    for stuff in result['extracted_units']:\n",
    "        pred = result['pred']\n",
    "        if stuff['metric'].isdigit():\n",
    "            all = str(float(int(stuff['metric']))) + ' ' + stuff['unit']\n",
    "        else: all = stuff['metric'] + ' ' + stuff['unit']\n",
    "        new.append({'text': all, 'pred': pred})\n",
    "for n in new:\n",
    "    if n != []:\n",
    "        texts_dict.append(n)"
   ]
  },
  {
   "cell_type": "code",
   "execution_count": 287,
   "metadata": {},
   "outputs": [
    {
     "data": {
      "text/plain": [
       "[{'text': 'KOMFORT-PAKET 4a', 'pred': 0.35431388707142747},\n",
       " {'text': '1', 'pred': 0.7760143631954044},\n",
       " {'text': 'DAS HERZSTUCK :', 'pred': 0.9928206878891216},\n",
       " {'text': 'STARKER', 'pred': 0.9999500315210897},\n",
       " {'text': 'UND EFFIZIENTER MOTOR FiR ANGENEHMEN FAHRKOMFORT',\n",
       "  'pred': 0.7560478897506805},\n",
       " {'text': 'KRAFTVOLLE UND EFFIZIENTE', 'pred': 0.8767702961318427},\n",
       " {'text': 'EXTREM LEISER UND', 'pred': 0.9145094799818458},\n",
       " {'text': 'UNGLAUBLICHES DREHMOMENT', 'pred': 0.999008231371281},\n",
       " {'text': 'UNTERSTUTZUNG BIS', 'pred': 0.9994943754635573},\n",
       " {'text': 'LEISTUNGSSTARKER MOTOR MIT', 'pred': 0.9499376126418606},\n",
       " {'text': 'VON', 'pred': 0.9997288323954827},\n",
       " {'text': '250 W', 'pred': 0.9917589681491749},\n",
       " {'text': '45 NM', 'pred': 0.9984150717870629},\n",
       " {'text': '0', 'pred': 0.26312357600830083},\n",
       " {'text': '25 KM', 'pred': 0.669536166297791},\n",
       " {'text': 'H', 'pred': 0.669536166297791},\n",
       " {'text': '250.0 watt', 'pred': 0.9917589681491749}]"
      ]
     },
     "execution_count": 287,
     "metadata": {},
     "output_type": "execute_result"
    }
   ],
   "source": [
    "texts_dict"
   ]
  },
  {
   "cell_type": "code",
   "execution_count": 288,
   "metadata": {},
   "outputs": [
    {
     "name": "stdout",
     "output_type": "stream",
     "text": [
      "250 watt\n",
      "250.0 watt\n",
      "250 watt\n"
     ]
    }
   ],
   "source": [
    "cons = list(constants.entity_unit_map[entity_name])\n",
    "prob = []\n",
    "for row in texts_dict:\n",
    "    if row['text'].lower():\n",
    "        normalised = convert_to_standard_form(row['text'], entity_name)\n",
    "        if isin(normalised, cons):\n",
    "            print(normalised)\n",
    "            prob.append([normalised, row['pred']])\n",
    "\n",
    "if not prob:\n",
    "    prediction = \"\"\n",
    "    print(prediction)\n",
    "elif len(prob) > 1:\n",
    "    \n",
    "    m_idx = 0\n",
    "    max_pred = -1  \n",
    "\n",
    "    for idx, item in enumerate(prob):\n",
    "        if item[1] > max_pred:  \n",
    "            m_idx = idx\n",
    "            max_pred = item[1]  \n",
    "\n",
    "    prediction = prob[m_idx][0]  \n",
    "    print(prediction)\n",
    "else:\n",
    "    prediction = prob[0][0]  \n",
    "    print(prediction)\n"
   ]
  },
  {
   "cell_type": "code",
   "execution_count": 289,
   "metadata": {},
   "outputs": [
    {
     "data": {
      "text/plain": [
       "'250 watt'"
      ]
     },
     "execution_count": 289,
     "metadata": {},
     "output_type": "execute_result"
    }
   ],
   "source": [
    "prediction"
   ]
  },
  {
   "cell_type": "code",
   "execution_count": 290,
   "metadata": {},
   "outputs": [
    {
     "name": "stdout",
     "output_type": "stream",
     "text": [
      "Numeric Part: 250.0\n",
      "Unit: watt\n",
      "Formatted Text: 250.0 watt\n",
      "\n",
      "Final: 250.0 watt\n"
     ]
    }
   ],
   "source": [
    "numeric_part, unit = extract_and_format(prediction)\n",
    "\n",
    "# Combine numeric part with unit\n",
    "formatted_text = f\"{numeric_part} {unit}\"\n",
    "\n",
    "# Print results\n",
    "print(f\"Numeric Part: {numeric_part}\")\n",
    "print(f\"Unit: {unit}\")\n",
    "print(f\"Formatted Text: {formatted_text}\")\n",
    "\n",
    "print(f\"\\nFinal: {formatted_text}\")"
   ]
  },
  {
   "cell_type": "code",
   "execution_count": 291,
   "metadata": {},
   "outputs": [
    {
     "data": {
      "text/plain": [
       "('250.0 watt', '250.0 watt')"
      ]
     },
     "execution_count": 291,
     "metadata": {},
     "output_type": "execute_result"
    }
   ],
   "source": [
    "formatted_text, actual_pred"
   ]
  },
  {
   "cell_type": "code",
   "execution_count": 292,
   "metadata": {},
   "outputs": [
    {
     "data": {
      "text/plain": [
       "True"
      ]
     },
     "execution_count": 292,
     "metadata": {},
     "output_type": "execute_result"
    }
   ],
   "source": [
    "formatted_text == actual_pred"
   ]
  }
 ],
 "metadata": {
  "kernelspec": {
   "display_name": "Python 3",
   "language": "python",
   "name": "python3"
  },
  "language_info": {
   "codemirror_mode": {
    "name": "ipython",
    "version": 3
   },
   "file_extension": ".py",
   "mimetype": "text/x-python",
   "name": "python",
   "nbconvert_exporter": "python",
   "pygments_lexer": "ipython3",
   "version": "3.11.5"
  }
 },
 "nbformat": 4,
 "nbformat_minor": 2
}
