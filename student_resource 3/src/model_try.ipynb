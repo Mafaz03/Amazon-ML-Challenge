{
 "cells": [
  {
   "cell_type": "code",
   "execution_count": 4,
   "metadata": {},
   "outputs": [],
   "source": [
    "import os\n",
    "import pandas as pd\n",
    "import easyocr\n",
    "import ssl\n",
    "import requests\n",
    "from PIL import Image\n",
    "ssl._create_default_https_context = ssl._create_unverified_context\n"
   ]
  },
  {
   "cell_type": "code",
   "execution_count": 2,
   "metadata": {},
   "outputs": [
    {
     "data": {
      "text/plain": [
       "('https://m.media-amazon.com/images/I/71rKXZJrh4L.jpg',\n",
       " 'item_weight',\n",
       " '18.55 gram')"
      ]
     },
     "execution_count": 2,
     "metadata": {},
     "output_type": "execute_result"
    }
   ],
   "source": [
    "DATASET_FOLDER = '../dataset/'\n",
    "train = pd.read_csv(os.path.join(DATASET_FOLDER, 'train.csv'))\n",
    "test = pd.read_csv(os.path.join(DATASET_FOLDER, 'test.csv'))\n",
    "sample_test = pd.read_csv(os.path.join(DATASET_FOLDER, 'sample_test.csv'))\n",
    "sample_test_out = pd.read_csv(os.path.join(DATASET_FOLDER, 'sample_test_out.csv'))\n",
    "\n",
    "sample_train = train.iloc[:80]\n",
    "sample_train\n",
    "\n",
    "\n",
    "num = 32\n",
    "img_link = sample_train['image_link'][num]\n",
    "entity_name = sample_train['entity_name'][num] \n",
    "pred = sample_train['entity_value'][num] \n",
    "img_link, entity_name, pred"
   ]
  },
  {
   "cell_type": "code",
   "execution_count": 5,
   "metadata": {},
   "outputs": [
    {
     "name": "stderr",
     "output_type": "stream",
     "text": [
      "/Library/Frameworks/Python.framework/Versions/3.11/lib/python3.11/site-packages/easyocr/detection.py:85: FutureWarning: You are using `torch.load` with `weights_only=False` (the current default value), which uses the default pickle module implicitly. It is possible to construct malicious pickle data which will execute arbitrary code during unpickling (See https://github.com/pytorch/pytorch/blob/main/SECURITY.md#untrusted-models for more details). In a future release, the default value for `weights_only` will be flipped to `True`. This limits the functions that could be executed during unpickling. Arbitrary objects will no longer be allowed to be loaded via this mode unless they are explicitly allowlisted by the user via `torch.serialization.add_safe_globals`. We recommend you start setting `weights_only=True` for any use case where you don't have full control of the loaded file. Please open an issue on GitHub for any issues related to this experimental feature.\n",
      "  net.load_state_dict(copyStateDict(torch.load(trained_model, map_location=device)))\n",
      "/Library/Frameworks/Python.framework/Versions/3.11/lib/python3.11/site-packages/easyocr/recognition.py:182: FutureWarning: You are using `torch.load` with `weights_only=False` (the current default value), which uses the default pickle module implicitly. It is possible to construct malicious pickle data which will execute arbitrary code during unpickling (See https://github.com/pytorch/pytorch/blob/main/SECURITY.md#untrusted-models for more details). In a future release, the default value for `weights_only` will be flipped to `True`. This limits the functions that could be executed during unpickling. Arbitrary objects will no longer be allowed to be loaded via this mode unless they are explicitly allowlisted by the user via `torch.serialization.add_safe_globals`. We recommend you start setting `weights_only=True` for any use case where you don't have full control of the loaded file. Please open an issue on GitHub for any issues related to this experimental feature.\n",
      "  model.load_state_dict(torch.load(model_path, map_location=device))\n"
     ]
    }
   ],
   "source": [
    "reader = easyocr.Reader(['en'])\n",
    "\n",
    "get_from_net = requests.get(img_link, stream=True).raw\n",
    "image = Image.open(get_from_net)\n",
    "\n",
    "\n",
    "texts = reader.readtext(image)"
   ]
  },
  {
   "cell_type": "code",
   "execution_count": 7,
   "metadata": {},
   "outputs": [],
   "source": [
    "new_entries = []\n",
    "to_delete = []\n",
    "\n",
    "# Function to clean and normalize the input\n",
    "def clean_and_normalize(value):\n",
    "    # Replace comma with period\n",
    "    return value.replace(',', '.')\n",
    "\n",
    "# Loop over the list using enumerate to track index\n",
    "for i, text in enumerate(texts):\n",
    "    # Check if '/' is in text[1]\n",
    "    if '/' in text[1]:\n",
    "        # Clean and normalize the text[1]\n",
    "        cleaned_text = clean_and_normalize(text[1])\n",
    "        # Split the cleaned text[1] by '/'\n",
    "        todo = cleaned_text.split('/')\n",
    "        \n",
    "        # Add each part as a new tuple\n",
    "        for k in todo:\n",
    "            new_entries.append(\n",
    "                (text[0], k.strip(), text[-1])\n",
    "            )\n",
    "        \n",
    "        # Mark the original entry for deletion\n",
    "        to_delete.append(i)\n",
    "\n",
    "# Remove the original entries from texts in reverse order to avoid index issues\n",
    "for index in sorted(to_delete, reverse=True):\n",
    "    del texts[index]\n",
    "\n",
    "# Extend the original texts list with the new entries\n",
    "texts.extend(new_entries)"
   ]
  },
  {
   "cell_type": "code",
   "execution_count": 8,
   "metadata": {},
   "outputs": [
    {
     "name": "stdout",
     "output_type": "stream",
     "text": [
      "2732721313025\n",
      "50M\n",
      "~37524222C\n",
      "2=\n",
      "42523\n",
      "50 ml\n",
      "Carvomin\n",
      "Verdauungstropfen\n",
      "M\n",
      "g20\n",
      "0V\n",
      "Flussigkeit zum Einnehmen\n",
      "1U\n",
      "hei\n",
      "41\n",
      "MM\n",
      "9aeh\n",
      "206\n",
      "319\n",
      "A6\n",
      "a\n",
      "008\n",
      "N;\n",
      "026 ,\n",
      "4\n",
      "Wirkstoff:\n",
      "aus einer\n",
      "Mischung\n",
      "von\n",
      "Angelikawurzeln;\n",
      "Benediktenkraut und\n",
      "Pfefferminzblattern\n",
      "KLSNGE\n",
      "PHARMA\n",
      "Carvomin\n",
      "Verdauungstropten\n",
      "7 Einnehmen\n",
      "18555\n",
      "Flissgkeitz\n",
      "' Anwendung\n",
      "iErwachsenen\n",
      ") flissgkeit\n",
      "Avszug\n",
      "8\n",
      "\"18555\n",
      " Angelkamurzeh\n",
      "entfalten' L\n",
      "dpfeter:\n",
      "0147531a\n",
      "Mischung 5\n",
      "Beneditenkaut L\n",
      "4\n",
      "mnzblattern (\n",
      "0\n",
      "N\n",
      "0\n",
      "0\n",
      "Phafma \n",
      "Klnge ,\n",
      "1\n",
      "4\n",
      "N\n",
      "Auszug\n",
      "0\n",
      "1\n",
      "N\n",
      "72r\n",
      "\n",
      "18.55 g\n",
      "20 ml\n",
      "\n",
      "133331 ^\n",
      "\n",
      "n\n"
     ]
    }
   ],
   "source": [
    "for i in texts:\n",
    "    print(i[1])"
   ]
  },
  {
   "cell_type": "code",
   "execution_count": 9,
   "metadata": {},
   "outputs": [
    {
     "data": {
      "text/plain": [
       "[{'text': '2732721313025', 'pred': 0.1001860347897583},\n",
       " {'text': '50M', 'pred': 0.16060743859617083},\n",
       " {'text': '~37524222C', 'pred': 0.0077526944052079645},\n",
       " {'text': '2=', 'pred': 0.21669502402936414},\n",
       " {'text': '42523', 'pred': 0.04008278557707183},\n",
       " {'text': '50 ml', 'pred': 0.9693396111384851},\n",
       " {'text': 'Carvomin', 'pred': 0.9721195121418007},\n",
       " {'text': 'Verdauungstropfen', 'pred': 0.8623594631713056},\n",
       " {'text': 'M', 'pred': 0.9725734615461903},\n",
       " {'text': 'g20', 'pred': 0.11229819957398907},\n",
       " {'text': '0V', 'pred': 0.041503755431142285},\n",
       " {'text': 'Flussigkeit zum Einnehmen', 'pred': 0.7865013676579803},\n",
       " {'text': '1U', 'pred': 0.08862222637550887},\n",
       " {'text': 'hei', 'pred': 0.23268654720367576},\n",
       " {'text': '41', 'pred': 0.08975906755221646},\n",
       " {'text': 'MM', 'pred': 0.9356442673432022},\n",
       " {'text': '9aeh', 'pred': 0.053390659391880035},\n",
       " {'text': '206', 'pred': 0.33333875168568333},\n",
       " {'text': '319', 'pred': 0.38282224197761555},\n",
       " {'text': 'A6', 'pred': 0.21284770205130196},\n",
       " {'text': 'a', 'pred': 0.18721859397329865},\n",
       " {'text': '008', 'pred': 0.1057593391646441},\n",
       " {'text': 'N;', 'pred': 0.7674980022869592},\n",
       " {'text': '026 ,', 'pred': 0.05545792949662135},\n",
       " {'text': '4', 'pred': 0.4319732363203599},\n",
       " {'text': 'Wirkstoff:', 'pred': 0.9426374566419564},\n",
       " {'text': 'aus einer', 'pred': 0.9978727084593687},\n",
       " {'text': 'Mischung', 'pred': 0.9999873559123359},\n",
       " {'text': 'von', 'pred': 0.9998911188287926},\n",
       " {'text': 'Angelikawurzeln;', 'pred': 0.8093887717696738},\n",
       " {'text': 'Benediktenkraut und', 'pred': 0.7637984620311169},\n",
       " {'text': 'Pfefferminzblattern', 'pred': 0.9985885861934128},\n",
       " {'text': 'KLSNGE', 'pred': 0.9773331869081655},\n",
       " {'text': 'PHARMA', 'pred': 0.9986783975832562},\n",
       " {'text': 'Carvomin', 'pred': 0.9910891504538578},\n",
       " {'text': 'Verdauungstropten', 'pred': 0.597535054505041},\n",
       " {'text': '7 Einnehmen', 'pred': 0.5450194321104702},\n",
       " {'text': '18555', 'pred': 0.791913839165251},\n",
       " {'text': 'Flissgkeitz', 'pred': 0.5104285967224449},\n",
       " {'text': \"' Anwendung\", 'pred': 0.28461758708098917},\n",
       " {'text': 'iErwachsenen', 'pred': 0.8093460696818717},\n",
       " {'text': ') flissgkeit', 'pred': 0.4334855220874542},\n",
       " {'text': 'Avszug', 'pred': 0.4917801614571271},\n",
       " {'text': '8', 'pred': 0.19034427967498235},\n",
       " {'text': '\"18555', 'pred': 0.8722686929417282},\n",
       " {'text': ' Angelkamurzeh', 'pred': 0.3364346947092031},\n",
       " {'text': \"entfalten' L\", 'pred': 0.4460237673287862},\n",
       " {'text': 'dpfeter:', 'pred': 0.33774551128445046},\n",
       " {'text': '0147531a', 'pred': 0.3276843795222095},\n",
       " {'text': 'Mischung 5', 'pred': 0.2965323645952832},\n",
       " {'text': 'Beneditenkaut L', 'pred': 0.5218642440257808},\n",
       " {'text': '4', 'pred': 0.0665914301620143},\n",
       " {'text': 'mnzblattern (', 'pred': 0.45509113521401195},\n",
       " {'text': '0', 'pred': 0.07754948002833828},\n",
       " {'text': 'N', 'pred': 0.27273304353508365},\n",
       " {'text': '0', 'pred': 0.7662171673942453},\n",
       " {'text': '0', 'pred': 0.6300931687347919},\n",
       " {'text': 'Phafma ', 'pred': 0.5514199786145874},\n",
       " {'text': 'Klnge ,', 'pred': 0.36664344829196205},\n",
       " {'text': '1', 'pred': 0.3168852054250806},\n",
       " {'text': '4', 'pred': 0.059725872875484365},\n",
       " {'text': 'N', 'pred': 0.7439517168197121},\n",
       " {'text': 'Auszug', 'pred': 0.7455340525728724},\n",
       " {'text': '0', 'pred': 0.34146177599524563},\n",
       " {'text': '1', 'pred': 0.15156441275030375},\n",
       " {'text': 'N', 'pred': 0.517581539736284},\n",
       " {'text': '72r', 'pred': 0.024654630571603775},\n",
       " {'text': '', 'pred': 0.024654630571603775},\n",
       " {'text': '18.55 g', 'pred': 0.7441687607128937},\n",
       " {'text': '20 ml', 'pred': 0.7441687607128937},\n",
       " {'text': '', 'pred': 0.21888254379154412},\n",
       " {'text': '133331 ^', 'pred': 0.21888254379154412},\n",
       " {'text': '', 'pred': 0.18466909342432383},\n",
       " {'text': 'n', 'pred': 0.18466909342432383}]"
      ]
     },
     "execution_count": 9,
     "metadata": {},
     "output_type": "execute_result"
    }
   ],
   "source": [
    "texts_dict = [{\"text\": text[1], \"pred\": text[-1]} for text in texts]\n",
    "texts_dict"
   ]
  },
  {
   "cell_type": "code",
   "execution_count": 38,
   "metadata": {},
   "outputs": [
    {
     "data": {
      "text/html": [
       "<div>\n",
       "<style scoped>\n",
       "    .dataframe tbody tr th:only-of-type {\n",
       "        vertical-align: middle;\n",
       "    }\n",
       "\n",
       "    .dataframe tbody tr th {\n",
       "        vertical-align: top;\n",
       "    }\n",
       "\n",
       "    .dataframe thead th {\n",
       "        text-align: right;\n",
       "    }\n",
       "</style>\n",
       "<table border=\"1\" class=\"dataframe\">\n",
       "  <thead>\n",
       "    <tr style=\"text-align: right;\">\n",
       "      <th></th>\n",
       "      <th>image_link</th>\n",
       "      <th>group_id</th>\n",
       "      <th>entity_name</th>\n",
       "      <th>entity_value</th>\n",
       "    </tr>\n",
       "  </thead>\n",
       "  <tbody>\n",
       "    <tr>\n",
       "      <th>0</th>\n",
       "      <td>https://m.media-amazon.com/images/I/61I9XdN6OF...</td>\n",
       "      <td>748919</td>\n",
       "      <td>item_weight</td>\n",
       "      <td>500.0 gram</td>\n",
       "    </tr>\n",
       "    <tr>\n",
       "      <th>1</th>\n",
       "      <td>https://m.media-amazon.com/images/I/71gSRbyXmo...</td>\n",
       "      <td>916768</td>\n",
       "      <td>item_volume</td>\n",
       "      <td>1.0 cup</td>\n",
       "    </tr>\n",
       "    <tr>\n",
       "      <th>2</th>\n",
       "      <td>https://m.media-amazon.com/images/I/61BZ4zrjZX...</td>\n",
       "      <td>459516</td>\n",
       "      <td>item_weight</td>\n",
       "      <td>0.709 gram</td>\n",
       "    </tr>\n",
       "    <tr>\n",
       "      <th>3</th>\n",
       "      <td>https://m.media-amazon.com/images/I/612mrlqiI4...</td>\n",
       "      <td>459516</td>\n",
       "      <td>item_weight</td>\n",
       "      <td>0.709 gram</td>\n",
       "    </tr>\n",
       "    <tr>\n",
       "      <th>4</th>\n",
       "      <td>https://m.media-amazon.com/images/I/617Tl40LOX...</td>\n",
       "      <td>731432</td>\n",
       "      <td>item_weight</td>\n",
       "      <td>1400 milligram</td>\n",
       "    </tr>\n",
       "    <tr>\n",
       "      <th>...</th>\n",
       "      <td>...</td>\n",
       "      <td>...</td>\n",
       "      <td>...</td>\n",
       "      <td>...</td>\n",
       "    </tr>\n",
       "    <tr>\n",
       "      <th>75</th>\n",
       "      <td>https://m.media-amazon.com/images/I/71l0M0tMGj...</td>\n",
       "      <td>365637</td>\n",
       "      <td>item_weight</td>\n",
       "      <td>200.0 gram</td>\n",
       "    </tr>\n",
       "    <tr>\n",
       "      <th>76</th>\n",
       "      <td>https://m.media-amazon.com/images/I/71Lpqdrpi4...</td>\n",
       "      <td>365637</td>\n",
       "      <td>item_weight</td>\n",
       "      <td>200.0 gram</td>\n",
       "    </tr>\n",
       "    <tr>\n",
       "      <th>77</th>\n",
       "      <td>https://m.media-amazon.com/images/I/71jLIbCcwO...</td>\n",
       "      <td>365637</td>\n",
       "      <td>item_weight</td>\n",
       "      <td>100.0 gram</td>\n",
       "    </tr>\n",
       "    <tr>\n",
       "      <th>78</th>\n",
       "      <td>https://m.media-amazon.com/images/I/718EdwGgyV...</td>\n",
       "      <td>365637</td>\n",
       "      <td>item_weight</td>\n",
       "      <td>200.0 gram</td>\n",
       "    </tr>\n",
       "    <tr>\n",
       "      <th>79</th>\n",
       "      <td>https://m.media-amazon.com/images/I/713twQgCHS...</td>\n",
       "      <td>487566</td>\n",
       "      <td>item_weight</td>\n",
       "      <td>5.0 kilogram</td>\n",
       "    </tr>\n",
       "  </tbody>\n",
       "</table>\n",
       "<p>80 rows × 4 columns</p>\n",
       "</div>"
      ],
      "text/plain": [
       "                                           image_link  group_id  entity_name  \\\n",
       "0   https://m.media-amazon.com/images/I/61I9XdN6OF...    748919  item_weight   \n",
       "1   https://m.media-amazon.com/images/I/71gSRbyXmo...    916768  item_volume   \n",
       "2   https://m.media-amazon.com/images/I/61BZ4zrjZX...    459516  item_weight   \n",
       "3   https://m.media-amazon.com/images/I/612mrlqiI4...    459516  item_weight   \n",
       "4   https://m.media-amazon.com/images/I/617Tl40LOX...    731432  item_weight   \n",
       "..                                                ...       ...          ...   \n",
       "75  https://m.media-amazon.com/images/I/71l0M0tMGj...    365637  item_weight   \n",
       "76  https://m.media-amazon.com/images/I/71Lpqdrpi4...    365637  item_weight   \n",
       "77  https://m.media-amazon.com/images/I/71jLIbCcwO...    365637  item_weight   \n",
       "78  https://m.media-amazon.com/images/I/718EdwGgyV...    365637  item_weight   \n",
       "79  https://m.media-amazon.com/images/I/713twQgCHS...    487566  item_weight   \n",
       "\n",
       "      entity_value  \n",
       "0       500.0 gram  \n",
       "1          1.0 cup  \n",
       "2       0.709 gram  \n",
       "3       0.709 gram  \n",
       "4   1400 milligram  \n",
       "..             ...  \n",
       "75      200.0 gram  \n",
       "76      200.0 gram  \n",
       "77      100.0 gram  \n",
       "78      200.0 gram  \n",
       "79    5.0 kilogram  \n",
       "\n",
       "[80 rows x 4 columns]"
      ]
     },
     "execution_count": 38,
     "metadata": {},
     "output_type": "execute_result"
    }
   ],
   "source": [
    "sample_train"
   ]
  },
  {
   "cell_type": "code",
   "execution_count": 72,
   "metadata": {},
   "outputs": [
    {
     "data": {
      "text/plain": [
       "['ounce', 'milligram', 'ton', 'pound', 'gram', 'kilogram', 'microgram']"
      ]
     },
     "execution_count": 72,
     "metadata": {},
     "output_type": "execute_result"
    }
   ],
   "source": [
    "import constants\n",
    "\n",
    "list(constants.entity_unit_map[entity_name])"
   ]
  },
  {
   "cell_type": "code",
   "execution_count": 29,
   "metadata": {},
   "outputs": [
    {
     "name": "stdout",
     "output_type": "stream",
     "text": [
      "18.55 gram\n",
      "18.55 wow\n"
     ]
    }
   ],
   "source": [
    "import re\n",
    "from constants import unit_abbreviation_map\n",
    "\n",
    "# Function to normalize units\n",
    "def normalize_unit(unit):\n",
    "    return unit_abbreviation_map[entity_name].get(unit.lower(), unit)\n",
    "\n",
    "# Function to convert input to standardized form\n",
    "def convert_to_standard_form(input_str):\n",
    "    # Regex to capture number and unit (with or without space between them)\n",
    "    match = re.match(r\"([0-9.]+)\\s*([a-zA-Z]+)\", input_str)\n",
    "    if match:\n",
    "        value = match.group(1)\n",
    "        unit = match.group(2)\n",
    "        \n",
    "        # Normalize unit\n",
    "        normalized_unit = normalize_unit(unit)\n",
    "        \n",
    "        # Return standardized form: number + normalized unit\n",
    "        return f\"{value} {normalized_unit}\"\n",
    "    \n",
    "    # If no match, return the input string unchanged\n",
    "    return input_str\n",
    "\n",
    "# Example usage\n",
    "print(convert_to_standard_form('18.55 g'))\n",
    "print(convert_to_standard_form('18.55wow'))"
   ]
  },
  {
   "cell_type": "code",
   "execution_count": 40,
   "metadata": {},
   "outputs": [
    {
     "data": {
      "text/plain": [
       "True"
      ]
     },
     "execution_count": 40,
     "metadata": {},
     "output_type": "execute_result"
    }
   ],
   "source": [
    "cons = list(constants.entity_unit_map[entity_name])\n",
    "\n",
    "def is_unit_in_list(input_str, unit_list):\n",
    "    # Regex to capture number and unit (ignoring the number here)\n",
    "    match = re.match(r\"([0-9.]+)\\s*([a-zA-Z\\s]+)\", input_str)\n",
    "    if match:\n",
    "        unit = match.group(2).strip()\n",
    "        # Normalize the unit\n",
    "        normalized_unit = normalize_unit(unit)\n",
    "        # Check if the normalized unit is in the provided list\n",
    "        return normalized_unit in unit_list\n",
    "    return False\n",
    "\n",
    "is_unit_in_list('18.55 gram', cons)"
   ]
  },
  {
   "cell_type": "code",
   "execution_count": 41,
   "metadata": {},
   "outputs": [
    {
     "data": {
      "text/plain": [
       "['ounce', 'milligram', 'ton', 'pound', 'gram', 'kilogram', 'microgram']"
      ]
     },
     "execution_count": 41,
     "metadata": {},
     "output_type": "execute_result"
    }
   ],
   "source": [
    "cons = list(constants.entity_unit_map[entity_name])\n",
    "cons"
   ]
  },
  {
   "cell_type": "code",
   "execution_count": 34,
   "metadata": {},
   "outputs": [
    {
     "data": {
      "text/plain": [
       "['ounce', 'ton', 'milligram', 'gram', 'pound', 'microgram', 'kilogram']"
      ]
     },
     "execution_count": 34,
     "metadata": {},
     "output_type": "execute_result"
    }
   ],
   "source": [
    "cons"
   ]
  },
  {
   "cell_type": "code",
   "execution_count": 42,
   "metadata": {},
   "outputs": [],
   "source": [
    "import re\n",
    "\n",
    "def isin(string, words):\n",
    "    pattern = '|'.join(re.escape(word) for word in words)\n",
    "    if re.search(pattern, string):\n",
    "        return True\n",
    "    else:\n",
    "        return False"
   ]
  },
  {
   "cell_type": "code",
   "execution_count": 50,
   "metadata": {},
   "outputs": [
    {
     "name": "stdout",
     "output_type": "stream",
     "text": [
      "18.55 gram\n"
     ]
    },
    {
     "data": {
      "text/plain": [
       "[['18.55 gram', 0.7441687607128937]]"
      ]
     },
     "execution_count": 50,
     "metadata": {},
     "output_type": "execute_result"
    }
   ],
   "source": [
    "cons = list(constants.entity_unit_map[entity_name])\n",
    "prob = []\n",
    "for row in texts_dict:\n",
    "    if row['text'].lower():\n",
    "        normalised = convert_to_standard_form(row['text'])\n",
    "        if isin(normalised, cons):\n",
    "            print(normalised)\n",
    "            prob.append([normalised, row['pred']])\n",
    "        # if normalised in cons:\n",
    "        #     print(normalised)\n",
    "\n",
    "if len(prob) > 1:\n",
    "    m_idx = 0\n",
    "    max_ele = -1\n",
    "    for idx, i in enumerate(prob):\n",
    "        if i[-1] > max_ele:\n",
    "            m_idx = idx\n",
    "            max_ele = i[0]"
   ]
  },
  {
   "cell_type": "code",
   "execution_count": 58,
   "metadata": {},
   "outputs": [
    {
     "data": {
      "text/plain": [
       "'18.55 gram'"
      ]
     },
     "execution_count": 58,
     "metadata": {},
     "output_type": "execute_result"
    }
   ],
   "source": [
    "prob = [['18.55 gram', 0.7441687607128937], [\"wow\", 0.33]]\n",
    "\n",
    "if len(prob) > 1:\n",
    "    m_idx = 0\n",
    "    max_ele = -1\n",
    "    for idx, i in enumerate(prob):\n",
    "        if i[-1] > max_ele:\n",
    "            m_idx = idx\n",
    "            max_ele = i[-1]\n",
    "prob[m_idx][0]"
   ]
  }
 ],
 "metadata": {
  "kernelspec": {
   "display_name": "Python 3",
   "language": "python",
   "name": "python3"
  },
  "language_info": {
   "codemirror_mode": {
    "name": "ipython",
    "version": 3
   },
   "file_extension": ".py",
   "mimetype": "text/x-python",
   "name": "python",
   "nbconvert_exporter": "python",
   "pygments_lexer": "ipython3",
   "version": "3.11.5"
  }
 },
 "nbformat": 4,
 "nbformat_minor": 2
}
